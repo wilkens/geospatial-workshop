{
 "cells": [
  {
   "cell_type": "markdown",
   "metadata": {},
   "source": [
    "#  01. Statistical Thinking and Computational Basics\n",
    "\n"
   ]
  },
  {
   "cell_type": "markdown",
   "metadata": {},
   "source": [
    "## Getting to know computation\n",
    "\n",
    "Some very basic concepts to get us started. If you've written code before, hang tight -- we'll get to more complicated things soon. If this is your first encounter with programming, the idea is to give you enough background to be able to follow the major ideas over the next couple of days, though there's not enough here to get you to the point where you'll be able to do much on your own.\n",
    "\n",
    "### Arithmetic and data types\n",
    "\n",
    "Below is a code cell. The Python interpreter will execute whatever instructions you type into it, as soon as you hit the 'Run' icon (or the `shift-enter` key combination).\n",
    "\n",
    "#### Integer addition"
   ]
  },
  {
   "cell_type": "code",
   "execution_count": 1,
   "metadata": {
    "collapsed": false
   },
   "outputs": [
    {
     "data": {
      "text/plain": [
       "5"
      ]
     },
     "execution_count": 1,
     "metadata": {},
     "output_type": "execute_result"
    }
   ],
   "source": [
    "2+3"
   ]
  },
  {
   "cell_type": "markdown",
   "metadata": {},
   "source": [
    "#### Floating point addition"
   ]
  },
  {
   "cell_type": "code",
   "execution_count": 2,
   "metadata": {
    "collapsed": false
   },
   "outputs": [
    {
     "data": {
      "text/plain": [
       "5.0"
      ]
     },
     "execution_count": 2,
     "metadata": {},
     "output_type": "execute_result"
    }
   ],
   "source": [
    "2+3.0"
   ]
  },
  {
   "cell_type": "markdown",
   "metadata": {},
   "source": [
    "Notice that Python is a **weakly typed** language. You don't have to tell the interpreter whether you're using integers for floats or strings or whatever. And it'll often happily convert between types in ways that can be either helpful or infurating, depending on what you expect to happen.\n",
    "\n",
    "#### Divsion\n",
    "\n",
    "Note that the old Python **version 2** (not version 3, which we're using) had a quirk with division, where it failed to move between integers and floating point numbers in the way a human would. So, in version 3, you get what you'd expect:"
   ]
  },
  {
   "cell_type": "code",
   "execution_count": 3,
   "metadata": {
    "collapsed": false
   },
   "outputs": [
    {
     "data": {
      "text/plain": [
       "2.5"
      ]
     },
     "execution_count": 3,
     "metadata": {},
     "output_type": "execute_result"
    }
   ],
   "source": [
    "5/2"
   ]
  },
  {
   "cell_type": "markdown",
   "metadata": {},
   "source": [
    "But in version 2, you'd get just the integer part, that is, `2`. You can get the old behavior with the `//` (integer division) operator."
   ]
  },
  {
   "cell_type": "code",
   "execution_count": 4,
   "metadata": {
    "collapsed": false
   },
   "outputs": [
    {
     "data": {
      "text/plain": [
       "2"
      ]
     },
     "execution_count": 4,
     "metadata": {},
     "output_type": "execute_result"
    }
   ],
   "source": [
    "5//2"
   ]
  },
  {
   "cell_type": "markdown",
   "metadata": {},
   "source": [
    "#### Booleans\n",
    "\n",
    "Boolean data types can have one of two values, `True` or `False`. Note that you use two equal signs (`==`) to **compare** entities, whereas you use one equal sign (`=`) to **assign** a value to a variable. This will make more sense when we talk about variables in a minute."
   ]
  },
  {
   "cell_type": "code",
   "execution_count": 5,
   "metadata": {
    "collapsed": false
   },
   "outputs": [
    {
     "data": {
      "text/plain": [
       "False"
      ]
     },
     "execution_count": 5,
     "metadata": {},
     "output_type": "execute_result"
    }
   ],
   "source": [
    "2==3"
   ]
  },
  {
   "cell_type": "code",
   "execution_count": 6,
   "metadata": {
    "collapsed": false
   },
   "outputs": [
    {
     "data": {
      "text/plain": [
       "True"
      ]
     },
     "execution_count": 6,
     "metadata": {},
     "output_type": "execute_result"
    }
   ],
   "source": [
    "2==2"
   ]
  },
  {
   "cell_type": "code",
   "execution_count": 7,
   "metadata": {
    "collapsed": false
   },
   "outputs": [
    {
     "ename": "SyntaxError",
     "evalue": "can't assign to literal (<ipython-input-7-0a6d37a048cb>, line 1)",
     "output_type": "error",
     "traceback": [
      "\u001b[0;36m  File \u001b[0;32m\"<ipython-input-7-0a6d37a048cb>\"\u001b[0;36m, line \u001b[0;32m1\u001b[0m\n\u001b[0;31m    2=3\u001b[0m\n\u001b[0m       ^\u001b[0m\n\u001b[0;31mSyntaxError\u001b[0m\u001b[0;31m:\u001b[0m can't assign to literal\n"
     ]
    }
   ],
   "source": [
    "2=3"
   ]
  },
  {
   "cell_type": "markdown",
   "metadata": {},
   "source": [
    "Notice the error above. You can't set one integer equal to a different integer, but you can compare two integers to see if they're equal.\n",
    "\n",
    "#### Strings\n",
    "\n",
    "We'll do a fair amount of work with strings. They're a series of characters."
   ]
  },
  {
   "cell_type": "code",
   "execution_count": 8,
   "metadata": {
    "collapsed": false
   },
   "outputs": [
    {
     "data": {
      "text/plain": [
       "'Hello, world!'"
      ]
     },
     "execution_count": 8,
     "metadata": {},
     "output_type": "execute_result"
    }
   ],
   "source": [
    "\"Hello, world!\""
   ]
  },
  {
   "cell_type": "markdown",
   "metadata": {},
   "source": [
    "Note that Python rarely cares whether you use single or double quote marks.\n",
    "\n",
    "#### Lists\n",
    "\n",
    "Lists are useful for storing sequential data, because you can address individual members or run through the whole collection. Strings also behave like lists of characters under the hood. We designate a list by enclosing its members in square brackets."
   ]
  },
  {
   "cell_type": "code",
   "execution_count": 9,
   "metadata": {
    "collapsed": false
   },
   "outputs": [
    {
     "data": {
      "text/plain": [
       "[3, 2, 7]"
      ]
     },
     "execution_count": 9,
     "metadata": {},
     "output_type": "execute_result"
    }
   ],
   "source": [
    "[3, 2, 7]"
   ]
  },
  {
   "cell_type": "code",
   "execution_count": 10,
   "metadata": {
    "collapsed": false
   },
   "outputs": [
    {
     "data": {
      "text/plain": [
       "3"
      ]
     },
     "execution_count": 10,
     "metadata": {},
     "output_type": "execute_result"
    }
   ],
   "source": [
    "[3, 2, 7][0]"
   ]
  },
  {
   "cell_type": "code",
   "execution_count": 11,
   "metadata": {
    "collapsed": false
   },
   "outputs": [
    {
     "data": {
      "text/plain": [
       "'w'"
      ]
     },
     "execution_count": 11,
     "metadata": {},
     "output_type": "execute_result"
    }
   ],
   "source": [
    "\"Hello, world!\"[7]"
   ]
  },
  {
   "cell_type": "markdown",
   "metadata": {},
   "source": [
    "Notice the notation above. We've selected the list member at index position 7, which is the letter 'w'. If you count the characters, you'll see that 'w' is the eighth character of the string `\"Hello, world!\"` (including the comma and the space). Our code returns 'w' because Python, like many programming languages, indexes from zero, not one."
   ]
  },
  {
   "cell_type": "markdown",
   "metadata": {},
   "source": [
    "#### Dictionaries\n",
    "\n",
    "Dictionaries -- or dicts -- store key-value pairs. They're useful when you want to look up data, quickly, using a known value (just as you would with a real dictionary). Like lists, dictionaries can be nested, that is, we can create a dictionary of dictionaries or a list of lists. Dictionaries, like lists, can contain many different kinds of data and we can mix data types within a dict. We build a dict by enclosing its members in curly braces: `{}`.\n",
    "\n",
    "Dictionaries are used *way* more widely than you'd think on first encounter. We'll use them later to build complex dataframes for analysis."
   ]
  },
  {
   "cell_type": "code",
   "execution_count": 12,
   "metadata": {
    "collapsed": false
   },
   "outputs": [
    {
     "data": {
      "text/plain": [
       "'A'"
      ]
     },
     "execution_count": 12,
     "metadata": {},
     "output_type": "execute_result"
    }
   ],
   "source": [
    "# A gradebook dictionary\n",
    "grades = {'Amy' : 'A', 'Bob' : 'B', 'Charles' : 'C'}\n",
    "grades['Amy']"
   ]
  },
  {
   "cell_type": "markdown",
   "metadata": {},
   "source": [
    "### Variables\n",
    "\n",
    "You use variables to store values, often the results of calculations. It's good practice to give your variables meaningful names, so that you -- or anyone else reading your code -- can tell at a glance what kinds of data they hold and how they're used in your program.\n",
    "\n",
    "Here's a very simple example ..."
   ]
  },
  {
   "cell_type": "code",
   "execution_count": 15,
   "metadata": {
    "collapsed": false
   },
   "outputs": [
    {
     "name": "stdout",
     "output_type": "stream",
     "text": [
      "5\n"
     ]
    }
   ],
   "source": [
    "sample = 5\n",
    "print(sample)"
   ]
  },
  {
   "cell_type": "code",
   "execution_count": 16,
   "metadata": {
    "collapsed": false
   },
   "outputs": [
    {
     "data": {
      "text/plain": [
       "12"
      ]
     },
     "execution_count": 16,
     "metadata": {},
     "output_type": "execute_result"
    }
   ],
   "source": [
    "sample + 7"
   ]
  },
  {
   "cell_type": "markdown",
   "metadata": {},
   "source": [
    "Note that the value stored in the variable `sample` hasn't changed:"
   ]
  },
  {
   "cell_type": "code",
   "execution_count": 17,
   "metadata": {
    "collapsed": false
   },
   "outputs": [
    {
     "name": "stdout",
     "output_type": "stream",
     "text": [
      "5\n"
     ]
    }
   ],
   "source": [
    "print(sample)"
   ]
  },
  {
   "cell_type": "markdown",
   "metadata": {},
   "source": [
    "If I **want** the value of `sample` to change, I need to assign a different value to it. What's cool is that I can use the current value of `sample` to calculate the new value, even if I don't know what the current value is."
   ]
  },
  {
   "cell_type": "code",
   "execution_count": 18,
   "metadata": {
    "collapsed": false
   },
   "outputs": [
    {
     "name": "stdout",
     "output_type": "stream",
     "text": [
      "13\n"
     ]
    }
   ],
   "source": [
    "sample = sample * 2\n",
    "sample = sample + 3\n",
    "print(sample)"
   ]
  },
  {
   "cell_type": "markdown",
   "metadata": {},
   "source": [
    "You can name variables almost anything, but variable names in Python can't start with a number or a symbol (except for underscore), nor can they be the same as a small set of Python reserved words (such as `False` or `import`). Variable names are also case sensitive, so `sample` and `Sample` have no necessary relation to one another.\n",
    "\n",
    "If you're coming to Python from another language, you'll have noticed that Python doesn't force (or allow) you to declare your variables. That is, you don't explicitly tell the computer that you're creating a new variable, nor what type of data you're going to store in it. Just using a legal name that doesn't already exist creates the variable, and Python infers the type from the data you assign to it. For example:"
   ]
  },
  {
   "cell_type": "code",
   "execution_count": 19,
   "metadata": {
    "collapsed": true
   },
   "outputs": [],
   "source": [
    "an_integer = 2\n",
    "a_float    = 2.0\n",
    "monkeys    = ['Alpha', 'Bravo', 'Charlie']"
   ]
  },
  {
   "cell_type": "code",
   "execution_count": 20,
   "metadata": {
    "collapsed": false
   },
   "outputs": [
    {
     "name": "stdout",
     "output_type": "stream",
     "text": [
      "<class 'int'>\n",
      "<class 'float'>\n",
      "<class 'list'>\n"
     ]
    }
   ],
   "source": [
    "print(type(an_integer))\n",
    "print(type(a_float))\n",
    "print(type(monkeys))"
   ]
  },
  {
   "cell_type": "markdown",
   "metadata": {},
   "source": [
    "You can cast one type to another, provided there's a logical way to do so:"
   ]
  },
  {
   "cell_type": "code",
   "execution_count": 21,
   "metadata": {
    "collapsed": false
   },
   "outputs": [
    {
     "name": "stdout",
     "output_type": "stream",
     "text": [
      "2.0\n",
      "<class 'float'>\n",
      "2\n",
      "<class 'int'>\n"
     ]
    }
   ],
   "source": [
    "print(a_float)\n",
    "print(type(a_float))\n",
    "int_that_used_to_be_a_float = int(a_float)\n",
    "print(int_that_used_to_be_a_float)\n",
    "print(type(int_that_used_to_be_a_float))"
   ]
  },
  {
   "cell_type": "markdown",
   "metadata": {},
   "source": [
    "But there's no obvious way to turn a list of strings into an integer, so the type cast fails:"
   ]
  },
  {
   "cell_type": "code",
   "execution_count": 22,
   "metadata": {
    "collapsed": false
   },
   "outputs": [
    {
     "ename": "TypeError",
     "evalue": "int() argument must be a string, a bytes-like object or a number, not 'list'",
     "output_type": "error",
     "traceback": [
      "\u001b[0;31m---------------------------------------------------------------------------\u001b[0m",
      "\u001b[0;31mTypeError\u001b[0m                                 Traceback (most recent call last)",
      "\u001b[0;32m<ipython-input-22-b7ece7462cc5>\u001b[0m in \u001b[0;36m<module>\u001b[0;34m()\u001b[0m\n\u001b[0;32m----> 1\u001b[0;31m \u001b[0mint\u001b[0m\u001b[0;34m(\u001b[0m\u001b[0mmonkeys\u001b[0m\u001b[0;34m)\u001b[0m\u001b[0;34m\u001b[0m\u001b[0m\n\u001b[0m",
      "\u001b[0;31mTypeError\u001b[0m: int() argument must be a string, a bytes-like object or a number, not 'list'"
     ]
    }
   ],
   "source": [
    "int(monkeys)"
   ]
  },
  {
   "cell_type": "markdown",
   "metadata": {},
   "source": [
    "**We can read this error message and learn from it!** It tells us that there was a `TypeError`, so something went wrong having to do with the type of data that we were using. It went wrong in line 1 (the only line in this one-line program), which contained the code `int(monkeys)`. Specifically, the data that we supplied to the `int()` function was supposed to be a string, a number, or a 'bytes-like object,' not a list (which is what we supplied).\n",
    "\n",
    "Python errors are generally pretty informative, and while it can be hard to figure out exactly what went wrong in a large program, an error message almost always gives you some useful clues. In any case, explicit errors like this one are a lot easier to debug than are subtler errors where the code runs fine, but gives unexpected results. Or even worse, where the results *seem* fine, but aren't (becuase of an error in your logic, say, or an operation performed on the wrong data).\n",
    "\n",
    "**NB.** Watch out for implicit, silent type conversions in your code. They often do what you want (such as converting between integers and floats), but not always. This can be the source of difficult bugs.\n",
    "\n",
    "### Iteration and flow control\n",
    "\n",
    "You'll often find yourself needing to run a piece of code a given number of times or for each observation in a data set. A common way to do this is to use one of two main loop constructs, `for` and `while`.\n",
    "\n",
    "To print the integers between 1 and 5, we could use a `for` loop:"
   ]
  },
  {
   "cell_type": "code",
   "execution_count": 23,
   "metadata": {
    "collapsed": false
   },
   "outputs": [
    {
     "name": "stdout",
     "output_type": "stream",
     "text": [
      "0\n",
      "1\n",
      "2\n",
      "3\n",
      "4\n"
     ]
    }
   ],
   "source": [
    "for i in range(5):\n",
    "    print(i)"
   ]
  },
  {
   "cell_type": "markdown",
   "metadata": {},
   "source": [
    "The biggest thing to note here is that we define the scope of a loop (and many other kinds of functions) in Python using **whitespace**. Specifically, we indented the functional part of the loop. If we wanted to carry on doing things after the loop finished, we would have written subsequent code below the `print` statement without an indent.\n",
    "\n",
    "Python's use of meaninful whitespace is unusual among programming languages. It means that your code will often fail or give unexpected results if your indenting is inconsistent. On the plus side, you don't have to search for and count curly braces nearly as often as you do in other languages.\n",
    "\n",
    "Note, too, that the `range` function begins by default at zero and **excludes** the supplied end value. FYI, you can supply start, stop, and increment values. To count to 100 (inclusive) by tens, write:"
   ]
  },
  {
   "cell_type": "code",
   "execution_count": 24,
   "metadata": {
    "collapsed": false
   },
   "outputs": [
    {
     "name": "stdout",
     "output_type": "stream",
     "text": [
      "0\n",
      "10\n",
      "20\n",
      "30\n",
      "40\n",
      "50\n",
      "60\n",
      "70\n",
      "80\n",
      "90\n",
      "100\n"
     ]
    }
   ],
   "source": [
    "for i in range(0,101,10):\n",
    "    print(i)"
   ]
  },
  {
   "cell_type": "markdown",
   "metadata": {},
   "source": [
    "Let's say we want to add the integers from 1 through 5 ..."
   ]
  },
  {
   "cell_type": "code",
   "execution_count": 25,
   "metadata": {
    "collapsed": false
   },
   "outputs": [
    {
     "name": "stdout",
     "output_type": "stream",
     "text": [
      "\t0 + 1\n",
      "\t1 + 2\n",
      "\t3 + 3\n",
      "\t6 + 4\n",
      "\t10 + 5\n",
      "The sum is: 15\n"
     ]
    }
   ],
   "source": [
    "result = 0\n",
    "for number in range(1,6):\n",
    "    print('\\t%s + %s'%(result, number))\n",
    "    result += number\n",
    "print('The sum is:', result)"
   ]
  },
  {
   "cell_type": "markdown",
   "metadata": {},
   "source": [
    "Handful of things to notice in this one.\n",
    "\n",
    "* We need to create the `result` variable outside the loop, or it'll be recreated (and reset to zero) with each loop iteration. Creating it outside the loop allows us to store values calculated across all the iterations of the loop.\n",
    "* We've used a clever print statement with string substitution inside the loop. The two instances of `%s` in the string to print each take one of the variables supplied after the end of that string. The `\\t` in the print string creates a tab character to indent the intermediate results so that they're easier to read.\n",
    "* The `+=` operator is a compact way of writing `variable = variable + ...`. Here, it translates to `result = result + number`.\n",
    "\n",
    "We can also iterate over the elements of a list:"
   ]
  },
  {
   "cell_type": "code",
   "execution_count": 2,
   "metadata": {
    "collapsed": false
   },
   "outputs": [
    {
     "name": "stdout",
     "output_type": "stream",
     "text": [
      "The cat in the hat \n"
     ]
    }
   ],
   "source": [
    "words = ['The', 'cat', 'in', 'the', 'hat']\n",
    "sentence = ''\n",
    "for word in words:\n",
    "    sentence += word + ' '\n",
    "print(sentence)"
   ]
  },
  {
   "cell_type": "markdown",
   "metadata": {},
   "source": [
    "OK, that's nice. But sometimes we don't know exactly what sort of data we'll have or whether we'll need to process all of it. Or, we'll know that different data points should be treated differently. For this, we need flow control.\n",
    "\n",
    "The single most important flow operator is the `if` statement. Let's say we want to count the number of times the word 'the' occurs in the list of words we just defined. We can combine a `for` loop with an `if` statement to do it:"
   ]
  },
  {
   "cell_type": "code",
   "execution_count": 5,
   "metadata": {
    "collapsed": false
   },
   "outputs": [
    {
     "name": "stdout",
     "output_type": "stream",
     "text": [
      "Occurrences of 'the': 1\n"
     ]
    }
   ],
   "source": [
    "count_the = 0\n",
    "for word in words:\n",
    "    if word == 'the':\n",
    "        count_the += 1\n",
    "print('Occurrences of \\'the\\':', count_the)"
   ]
  },
  {
   "cell_type": "markdown",
   "metadata": {},
   "source": [
    "Shoot, we forgot that string comparisons are case sensitive. Let's use an `or` operator along with our `if` statement:"
   ]
  },
  {
   "cell_type": "code",
   "execution_count": 28,
   "metadata": {
    "collapsed": false
   },
   "outputs": [
    {
     "name": "stdout",
     "output_type": "stream",
     "text": [
      "Occurrences of 'the': 2\n"
     ]
    }
   ],
   "source": [
    "count_the = 0\n",
    "for word in words:\n",
    "    if word == 'the' or word == 'The':\n",
    "        count_the += 1\n",
    "print('Occurrences of \\'the\\':', count_the)"
   ]
  },
  {
   "cell_type": "markdown",
   "metadata": {},
   "source": [
    "That's fine for a short example, but it would get cumbersome in a hurry. The `in` statement can help:"
   ]
  },
  {
   "cell_type": "code",
   "execution_count": 29,
   "metadata": {
    "collapsed": false
   },
   "outputs": [
    {
     "name": "stdout",
     "output_type": "stream",
     "text": [
      "Occurrences of target words: 2\n"
     ]
    }
   ],
   "source": [
    "count_target = 0\n",
    "target_words = ['The', 'the']\n",
    "for word in words:\n",
    "    if word in target_words:\n",
    "        count_target += 1\n",
    "print('Occurrences of target words:', count_target)"
   ]
  },
  {
   "cell_type": "markdown",
   "metadata": {},
   "source": [
    "Two more quickies. You can nest multiple `if` statements:"
   ]
  },
  {
   "cell_type": "code",
   "execution_count": 6,
   "metadata": {
    "collapsed": false
   },
   "outputs": [
    {
     "name": "stdout",
     "output_type": "stream",
     "text": [
      "Items divisible by 5:  20\n",
      "Items divisible by 10: 10\n"
     ]
    }
   ],
   "source": [
    "# Count the numbers evenly divisible by 5 and by 10\n",
    "\n",
    "div_by_5 = 0  # Count of numbers evenly divisible by 5\n",
    "div_by_10 = 0 # Count of numbers evenly divisible by 10\n",
    "for i in range(0,100):\n",
    "    if i%5 == 0:       # '%' is the modulo operator\n",
    "        div_by_5 += 1\n",
    "        if i%10 == 0:\n",
    "            div_by_10 += 1\n",
    "print('Items divisible by 5: ', div_by_5)\n",
    "print('Items divisible by 10:', div_by_10)"
   ]
  },
  {
   "cell_type": "markdown",
   "metadata": {},
   "source": [
    "Using nested `if`s saves us from looping through the data twice. The speed difference here is tiny, but could be meaningful for a very large data set.\n",
    "\n",
    "We can also use if-else-then logic. Let's categorize the words in our Dr. Seuss title ..."
   ]
  },
  {
   "cell_type": "code",
   "execution_count": 31,
   "metadata": {
    "collapsed": false
   },
   "outputs": [
    {
     "name": "stdout",
     "output_type": "stream",
     "text": [
      "Determiners: 2\n",
      "Animals: 1\n",
      "Other: 2\n"
     ]
    }
   ],
   "source": [
    "determiners = ['The', 'the', 'A', 'a']\n",
    "animals     = ['cat', 'dog', 'horse']\n",
    "\n",
    "count_determiners = 0\n",
    "count_animals = 0\n",
    "count_other = 0\n",
    "\n",
    "for word in words:\n",
    "    if word in determiners:\n",
    "        count_determiners += 1\n",
    "    elif word in animals:\n",
    "        count_animals += 1\n",
    "    else:\n",
    "        count_other += 1\n",
    "print('Determiners:', count_determiners)\n",
    "print('Animals:', count_animals)\n",
    "print('Other:', count_other)"
   ]
  },
  {
   "cell_type": "markdown",
   "metadata": {},
   "source": [
    "#### List comprehensions\n",
    "\n",
    "As you'll have noticed, a common task involving `for` loops is to create a list of values derived from a range of input data. This is so common, in fact, that Python 3 introduced a shortcut called a list comprehension to handle it in one line of code. I find these comprehensions tricky for new programmers, but you'll see them often enough that we should note them here.\n",
    "\n",
    "The following two pieces of code produce the same result:"
   ]
  },
  {
   "cell_type": "code",
   "execution_count": 7,
   "metadata": {
    "collapsed": false
   },
   "outputs": [
    {
     "data": {
      "text/plain": [
       "True"
      ]
     },
     "execution_count": 7,
     "metadata": {},
     "output_type": "execute_result"
    }
   ],
   "source": [
    "result_forloop = []\n",
    "for i in range(5):\n",
    "    j = 2**i\n",
    "    result_forloop.append(j)\n",
    "    \n",
    "result_comprehension = [2**i for i in range(5)]\n",
    "\n",
    "result_forloop == result_comprehension"
   ]
  },
  {
   "cell_type": "markdown",
   "metadata": {},
   "source": [
    "### Functions\n",
    "\n",
    "As you can imagine, we often want to run an analytical process and logic on different data sets. Our temptation is to do one of two things, neither of which is a good idea:\n",
    "\n",
    "* Write a single block of code and repeatedly change the suplied data by hand.\n",
    "* Copy the same code over and over, changing the supplied data in each instance.\n",
    "\n",
    "The first of those options is undesirable because it's untraceable. What data did we use to get that result six iterations ago? What parameters did we use? Nothing in the code as it's saved now can tell us.\n",
    "\n",
    "The second option is a little better, but it gets messy in a hurry. If you discover an error in the original code, or just want to make a change, you have to change it in every copy and rerun each one.\n",
    "\n",
    "The solution is to write a **function** that encapsulates your code and gives it a stable interface. This allows you to write some processing or analytical code once and use it again and again with new data. If there's a problem with it, you can fix that problem once and benefit from the change everywhere.\n",
    "\n",
    "Here's a simple function that counts the words in a string of text:"
   ]
  },
  {
   "cell_type": "code",
   "execution_count": 8,
   "metadata": {
    "collapsed": true
   },
   "outputs": [],
   "source": [
    "def count_words(text):\n",
    "    words = text.split()   # Split on whitespace, return a list\n",
    "    wordcount = len(words) # How many items in our list of words?\n",
    "    return wordcount       # Value to pass back to calling program"
   ]
  },
  {
   "cell_type": "code",
   "execution_count": 9,
   "metadata": {
    "collapsed": false
   },
   "outputs": [
    {
     "data": {
      "text/plain": [
       "41"
      ]
     },
     "execution_count": 9,
     "metadata": {},
     "output_type": "execute_result"
    }
   ],
   "source": [
    "# count_words() in action\n",
    "\n",
    "moby = \"\"\"Call me Ishmael. Some years ago--never mind how long precisely--having\n",
    "little or no money in my purse, and nothing particular to interest me on\n",
    "shore, I thought I would sail about a little and see the watery part of\n",
    "the world.\"\"\"\n",
    "\n",
    "count_words(moby)"
   ]
  },
  {
   "cell_type": "code",
   "execution_count": 10,
   "metadata": {
    "collapsed": false
   },
   "outputs": [
    {
     "data": {
      "text/plain": [
       "41"
      ]
     },
     "execution_count": 10,
     "metadata": {},
     "output_type": "execute_result"
    }
   ],
   "source": [
    "# count_words() in action\n",
    "\n",
    "moby = \"Call me Ishmael. Some years ago--never mind how long precisely--having \\\n",
    "little or no money in my purse, and nothing particular to interest me on \\\n",
    "shore, I thought I would sail about a little and see the watery part of \\\n",
    "the world.\"\n",
    "\n",
    "count_words(moby)"
   ]
  },
  {
   "cell_type": "markdown",
   "metadata": {},
   "source": [
    "Nice enough, but no big payoff yet. More data!"
   ]
  },
  {
   "cell_type": "code",
   "execution_count": 13,
   "metadata": {
    "collapsed": false
   },
   "outputs": [
    {
     "name": "stdout",
     "output_type": "stream",
     "text": [
      "41\n",
      "62\n",
      "51\n"
     ]
    }
   ],
   "source": [
    "jane = \"\"\"There was no possibility of taking a walk that day.  We had been\n",
    "wandering, indeed, in the leafless shrubbery an hour in the morning; but\n",
    "since dinner (Mrs. Reed, when there was no company, dined early) the cold\n",
    "winter wind had brought with it clouds so sombre, and a rain so\n",
    "penetrating, that further out-door exercise was now out of the question.\"\"\"\n",
    "\n",
    "dark = \"\"\"The Nellie, a cruising yawl, swung to her anchor without a flutter of\n",
    "the sails, and was at rest. The flood had made, the wind was nearly\n",
    "calm, and being bound down the river, the only thing for it was to come\n",
    "to and wait for the turn of the tide.\"\"\"\n",
    "\n",
    "for text in (moby, jane, dark):\n",
    "    print(count_words(text))"
   ]
  },
  {
   "cell_type": "markdown",
   "metadata": {},
   "source": [
    "But there's a pseudo-bug in our function. The `.split()` method splits words on whitespace, but not punctuation, which means the count for *Moby-Dick* is wrong. Let's fix it and make the string lower case while we're at it:"
   ]
  },
  {
   "cell_type": "code",
   "execution_count": 14,
   "metadata": {
    "collapsed": true
   },
   "outputs": [],
   "source": [
    "def count_words_better(text):\n",
    "    import string       # import useful string code\n",
    "    convert_to_space = string.punctuation # characters to convert to spaces\n",
    "    text_clean = ''     # variable to store the transformed string\n",
    "    for letter in text: # loop over letters in the string\n",
    "        if letter in convert_to_space:\n",
    "            letter = ' '     # replace prescribed characters with space\n",
    "        text_clean += letter.lower() # build clean lowercase string\n",
    "    words = text_clean.split()\n",
    "    wordcount = len(words)\n",
    "    return wordcount, text_clean # return both the count and the cleaned string"
   ]
  },
  {
   "cell_type": "code",
   "execution_count": 15,
   "metadata": {
    "collapsed": false
   },
   "outputs": [
    {
     "name": "stdout",
     "output_type": "stream",
     "text": [
      "(43, 'call me ishmael  some years ago  never mind how long precisely  having little or no money in my purse  and nothing particular to interest me on shore  i thought i would sail about a little and see the watery part of the world ')\n",
      "(63, 'there was no possibility of taking a walk that day   we had been\\nwandering  indeed  in the leafless shrubbery an hour in the morning  but\\nsince dinner  mrs  reed  when there was no company  dined early  the cold\\nwinter wind had brought with it clouds so sombre  and a rain so\\npenetrating  that further out door exercise was now out of the question ')\n",
      "(51, 'the nellie  a cruising yawl  swung to her anchor without a flutter of\\nthe sails  and was at rest  the flood had made  the wind was nearly\\ncalm  and being bound down the river  the only thing for it was to come\\nto and wait for the turn of the tide ')\n"
     ]
    }
   ],
   "source": [
    "for text in (moby, jane, dark):\n",
    "    print(count_words_better(text))"
   ]
  },
  {
   "cell_type": "markdown",
   "metadata": {},
   "source": [
    "This version of the function is more complicated, but more powerful. It fixes our dash problem by replacing punctuation with spaces and it returns, along with the wordcount, a punctuationless, lower-case version of the input text. This is important: functions can return anything -- and as many things as -- you want them to. `return` statements are, moreover, the **only** way you should pass information from a function back to the code that called it.\n",
    "\n",
    "The new function makes use of Python's buit-in `string` package to provide the list of punctuation, which saves us from having to type a bunch of punctuation marks ourselves and from accidentally forgetting a mark or two.\n",
    "\n",
    "If we later decide that converting all punctuation marks to spaces was a bad idea (it probably is), we could modify the function again to do something else and then rerun the rest of our code without needing to make any further changes.\n",
    "\n",
    "## Brief interlude on statistical thinking\n",
    "\n",
    "Main points:\n",
    "\n",
    "* The move to larger scales emphasizes regularities and trends over particlarities and exceptions.\n",
    "* When data sets grow large, we often don't know what they contain or what the \"right\" values might be. We can use descriptive statics to learn what we're observing.\n",
    "* Question your instincts, but also question the numbers. Corpora can be dirty and code can be buggy.\n",
    "* Ask whether your corpus or dataset reflects the underlying phenomenon of interest. How have collection practices and biases shaped the data available to you?\n",
    "\n",
    "## Let's work with some texts\n",
    "\n",
    "I've assembled a small corpus of 28 novels by British and American authors. Let's load them and see a bit of what they contain. This will also allow us to calculate and visualize some simple statistics.\n",
    "\n",
    "The texts are in the `../Data/Texts/` directory. The files are named with systematic metadata:\n",
    "\n",
    "```\n",
    "A-Cather-Antonia-1918-F.txt\n",
    "```\n",
    "\n",
    "Which means:\n",
    "\n",
    "* `A` = American (U.S.) author (`B` for British/U.K.)\n",
    "* `Cather` = Author last name (here, Willa Cather)\n",
    "* `Antonia` = Short title (here, _My Antonia_)\n",
    "* `1918` = Year of first publication\n",
    "* `F` = Female author (`M` for male)\n",
    "\n",
    "We can parse these names as we ingest the files to create a metadata table."
   ]
  },
  {
   "cell_type": "code",
   "execution_count": 16,
   "metadata": {
    "collapsed": true
   },
   "outputs": [],
   "source": [
    "# Suppress compatibility warnings\n",
    "import warnings\n",
    "warnings.filterwarnings('ignore')"
   ]
  },
  {
   "cell_type": "code",
   "execution_count": 17,
   "metadata": {
    "collapsed": false
   },
   "outputs": [],
   "source": [
    "import pandas as pd\n",
    "from nltk.corpus.reader.plaintext import PlaintextCorpusReader\n",
    "\n",
    "text_dir = '../Data/Texts/'\n",
    "corpus = PlaintextCorpusReader(text_dir, '.*\\.txt') # Takes c. 30 sec"
   ]
  },
  {
   "cell_type": "code",
   "execution_count": 18,
   "metadata": {
    "collapsed": false
   },
   "outputs": [
    {
     "name": "stdout",
     "output_type": "stream",
     "text": [
      "['A-Cather-Antonia-1918-F.txt', 'A-Chesnutt-Marrow-1901-M.txt', 'A-Crane-Maggie-1893-M.txt', 'A-Davis-Life_Iron_Mills-1861-F.txt', 'A-Dreiser-Sister_Carrie-1900-M.txt', 'A-Hawthorne-Scarlet_Letter-1850-M.txt', 'A-Howells-Silas_Lapham-1885-M.txt', 'A-James-Golden_Bowl-1904-M.txt', 'A-Jewett-Pointed_Firs-1896-F.txt', 'A-London-Call_Wild-1903-M.txt', 'A-Melville-Moby_Dick-1851-M.txt', 'A-Norris-Pit-1903-M.txt', 'A-Twain-Huck_Finn-1885-M.txt', 'A-Wharton-Age_Innocence-1920-F.txt', 'B-Bronte-Jane_Eyre-1847-F.txt', 'B-Bronte-Wuthering_Heights-1847-F.txt', 'B-Collins-Woman_White-1860-M.txt', 'B-Conrad-Heart_Darkness-1902-M.txt', 'B-Dickens-Bleak_House-1853-M.txt', 'B-Disraeli-Sybil-1845-M.txt', 'B-Eliot-Middlemarch-1869-F.txt', 'B-Gaskell-Cranford-1853-F.txt', 'B-Gissing-Grub_Street-1893-M.txt', 'B-Hardy-Tess-1891-M.txt', 'B-Stevenson-Treasure_Island-1883-M.txt', 'B-Thackeray-Vanity_Fair-1848-M.txt', 'B-Trollope-Live_Now-1875-M.txt', 'B-Wells-Time_Machine-1895-M.txt']\n"
     ]
    }
   ],
   "source": [
    "print(corpus.fileids())"
   ]
  },
  {
   "cell_type": "code",
   "execution_count": 19,
   "metadata": {
    "collapsed": false
   },
   "outputs": [],
   "source": [
    "# A function to turn fileids into a table of metadata\n",
    "def parse_fileids(fileids):\n",
    "    '''Takes a list of file names formatted like A-Cather-Antonia-1918-F.txt.\n",
    "       Returns a pandas dataframe of derived metadata.'''\n",
    "    import pandas as pd\n",
    "    meta = {}\n",
    "    for fileid in fileids:\n",
    "        file = fileid.strip('.txt') # Get rid of file suffix\n",
    "        fields = file.split('-') # Split on dashes\n",
    "        fields[2] = fields[2].replace('_', ' ') # Remove underscore from titles\n",
    "        fields[3] = int(fields[3])\n",
    "        meta[file] = fields\n",
    "    metadata = pd.DataFrame.from_dict(meta, orient='index') # Build dataframe\n",
    "    metadata.columns = ['nation', 'author', 'title', 'pubdate', 'gender'] # Col names\n",
    "    return metadata.sort_index() # Note we need to sort b/c datframe built from dictionary"
   ]
  },
  {
   "cell_type": "code",
   "execution_count": 20,
   "metadata": {
    "collapsed": false
   },
   "outputs": [
    {
     "data": {
      "text/html": [
       "<div>\n",
       "<table border=\"1\" class=\"dataframe\">\n",
       "  <thead>\n",
       "    <tr style=\"text-align: right;\">\n",
       "      <th></th>\n",
       "      <th>nation</th>\n",
       "      <th>author</th>\n",
       "      <th>title</th>\n",
       "      <th>pubdate</th>\n",
       "      <th>gender</th>\n",
       "    </tr>\n",
       "  </thead>\n",
       "  <tbody>\n",
       "    <tr>\n",
       "      <th>A-Cather-Antonia-1918-F</th>\n",
       "      <td>A</td>\n",
       "      <td>Cather</td>\n",
       "      <td>Antonia</td>\n",
       "      <td>1918</td>\n",
       "      <td>F</td>\n",
       "    </tr>\n",
       "    <tr>\n",
       "      <th>A-Chesnutt-Marrow-1901-M</th>\n",
       "      <td>A</td>\n",
       "      <td>Chesnutt</td>\n",
       "      <td>Marrow</td>\n",
       "      <td>1901</td>\n",
       "      <td>M</td>\n",
       "    </tr>\n",
       "    <tr>\n",
       "      <th>A-Crane-Maggie-1893-M</th>\n",
       "      <td>A</td>\n",
       "      <td>Crane</td>\n",
       "      <td>Maggie</td>\n",
       "      <td>1893</td>\n",
       "      <td>M</td>\n",
       "    </tr>\n",
       "    <tr>\n",
       "      <th>A-Davis-Life_Iron_Mills-1861-F</th>\n",
       "      <td>A</td>\n",
       "      <td>Davis</td>\n",
       "      <td>Life Iron Mills</td>\n",
       "      <td>1861</td>\n",
       "      <td>F</td>\n",
       "    </tr>\n",
       "    <tr>\n",
       "      <th>A-Dreiser-Sister_Carrie-1900-M</th>\n",
       "      <td>A</td>\n",
       "      <td>Dreiser</td>\n",
       "      <td>Sister Carrie</td>\n",
       "      <td>1900</td>\n",
       "      <td>M</td>\n",
       "    </tr>\n",
       "    <tr>\n",
       "      <th>A-Hawthorne-Scarlet_Letter-1850-M</th>\n",
       "      <td>A</td>\n",
       "      <td>Hawthorne</td>\n",
       "      <td>Scarlet Letter</td>\n",
       "      <td>1850</td>\n",
       "      <td>M</td>\n",
       "    </tr>\n",
       "    <tr>\n",
       "      <th>A-Howells-Silas_Lapham-1885-M</th>\n",
       "      <td>A</td>\n",
       "      <td>Howells</td>\n",
       "      <td>Silas Lapham</td>\n",
       "      <td>1885</td>\n",
       "      <td>M</td>\n",
       "    </tr>\n",
       "    <tr>\n",
       "      <th>A-James-Golden_Bowl-1904-M</th>\n",
       "      <td>A</td>\n",
       "      <td>James</td>\n",
       "      <td>Golden Bowl</td>\n",
       "      <td>1904</td>\n",
       "      <td>M</td>\n",
       "    </tr>\n",
       "    <tr>\n",
       "      <th>A-Jewett-Pointed_Firs-1896-F</th>\n",
       "      <td>A</td>\n",
       "      <td>Jewett</td>\n",
       "      <td>Pointed Firs</td>\n",
       "      <td>1896</td>\n",
       "      <td>F</td>\n",
       "    </tr>\n",
       "    <tr>\n",
       "      <th>A-London-Call_Wild-1903-M</th>\n",
       "      <td>A</td>\n",
       "      <td>London</td>\n",
       "      <td>Call Wild</td>\n",
       "      <td>1903</td>\n",
       "      <td>M</td>\n",
       "    </tr>\n",
       "    <tr>\n",
       "      <th>A-Melville-Moby_Dick-1851-M</th>\n",
       "      <td>A</td>\n",
       "      <td>Melville</td>\n",
       "      <td>Moby Dick</td>\n",
       "      <td>1851</td>\n",
       "      <td>M</td>\n",
       "    </tr>\n",
       "    <tr>\n",
       "      <th>A-Norris-Pit-1903-M</th>\n",
       "      <td>A</td>\n",
       "      <td>Norris</td>\n",
       "      <td>Pit</td>\n",
       "      <td>1903</td>\n",
       "      <td>M</td>\n",
       "    </tr>\n",
       "    <tr>\n",
       "      <th>A-Twain-Huck_Finn-1885-M</th>\n",
       "      <td>A</td>\n",
       "      <td>Twain</td>\n",
       "      <td>Huck Finn</td>\n",
       "      <td>1885</td>\n",
       "      <td>M</td>\n",
       "    </tr>\n",
       "    <tr>\n",
       "      <th>A-Wharton-Age_Innocence-1920-F</th>\n",
       "      <td>A</td>\n",
       "      <td>Wharton</td>\n",
       "      <td>Age Innocence</td>\n",
       "      <td>1920</td>\n",
       "      <td>F</td>\n",
       "    </tr>\n",
       "    <tr>\n",
       "      <th>B-Bronte-Jane_Eyre-1847-F</th>\n",
       "      <td>B</td>\n",
       "      <td>Bronte</td>\n",
       "      <td>Jane Eyre</td>\n",
       "      <td>1847</td>\n",
       "      <td>F</td>\n",
       "    </tr>\n",
       "    <tr>\n",
       "      <th>B-Bronte-Wuthering_Heights-1847-F</th>\n",
       "      <td>B</td>\n",
       "      <td>Bronte</td>\n",
       "      <td>Wuthering Heights</td>\n",
       "      <td>1847</td>\n",
       "      <td>F</td>\n",
       "    </tr>\n",
       "    <tr>\n",
       "      <th>B-Collins-Woman_White-1860-M</th>\n",
       "      <td>B</td>\n",
       "      <td>Collins</td>\n",
       "      <td>Woman White</td>\n",
       "      <td>1860</td>\n",
       "      <td>M</td>\n",
       "    </tr>\n",
       "    <tr>\n",
       "      <th>B-Conrad-Heart_Darkness-1902-M</th>\n",
       "      <td>B</td>\n",
       "      <td>Conrad</td>\n",
       "      <td>Heart Darkness</td>\n",
       "      <td>1902</td>\n",
       "      <td>M</td>\n",
       "    </tr>\n",
       "    <tr>\n",
       "      <th>B-Dickens-Bleak_House-1853-M</th>\n",
       "      <td>B</td>\n",
       "      <td>Dickens</td>\n",
       "      <td>Bleak House</td>\n",
       "      <td>1853</td>\n",
       "      <td>M</td>\n",
       "    </tr>\n",
       "    <tr>\n",
       "      <th>B-Disraeli-Sybil-1845-M</th>\n",
       "      <td>B</td>\n",
       "      <td>Disraeli</td>\n",
       "      <td>Sybil</td>\n",
       "      <td>1845</td>\n",
       "      <td>M</td>\n",
       "    </tr>\n",
       "    <tr>\n",
       "      <th>B-Eliot-Middlemarch-1869-F</th>\n",
       "      <td>B</td>\n",
       "      <td>Eliot</td>\n",
       "      <td>Middlemarch</td>\n",
       "      <td>1869</td>\n",
       "      <td>F</td>\n",
       "    </tr>\n",
       "    <tr>\n",
       "      <th>B-Gaskell-Cranford-1853-F</th>\n",
       "      <td>B</td>\n",
       "      <td>Gaskell</td>\n",
       "      <td>Cranford</td>\n",
       "      <td>1853</td>\n",
       "      <td>F</td>\n",
       "    </tr>\n",
       "    <tr>\n",
       "      <th>B-Gissing-Grub_Street-1893-M</th>\n",
       "      <td>B</td>\n",
       "      <td>Gissing</td>\n",
       "      <td>Grub Street</td>\n",
       "      <td>1893</td>\n",
       "      <td>M</td>\n",
       "    </tr>\n",
       "    <tr>\n",
       "      <th>B-Hardy-Tess-1891-M</th>\n",
       "      <td>B</td>\n",
       "      <td>Hardy</td>\n",
       "      <td>Tess</td>\n",
       "      <td>1891</td>\n",
       "      <td>M</td>\n",
       "    </tr>\n",
       "    <tr>\n",
       "      <th>B-Stevenson-Treasure_Island-1883-M</th>\n",
       "      <td>B</td>\n",
       "      <td>Stevenson</td>\n",
       "      <td>Treasure Island</td>\n",
       "      <td>1883</td>\n",
       "      <td>M</td>\n",
       "    </tr>\n",
       "    <tr>\n",
       "      <th>B-Thackeray-Vanity_Fair-1848-M</th>\n",
       "      <td>B</td>\n",
       "      <td>Thackeray</td>\n",
       "      <td>Vanity Fair</td>\n",
       "      <td>1848</td>\n",
       "      <td>M</td>\n",
       "    </tr>\n",
       "    <tr>\n",
       "      <th>B-Trollope-Live_Now-1875-M</th>\n",
       "      <td>B</td>\n",
       "      <td>Trollope</td>\n",
       "      <td>Live Now</td>\n",
       "      <td>1875</td>\n",
       "      <td>M</td>\n",
       "    </tr>\n",
       "    <tr>\n",
       "      <th>B-Wells-Time_Machine-1895-M</th>\n",
       "      <td>B</td>\n",
       "      <td>Wells</td>\n",
       "      <td>Time Machine</td>\n",
       "      <td>1895</td>\n",
       "      <td>M</td>\n",
       "    </tr>\n",
       "  </tbody>\n",
       "</table>\n",
       "</div>"
      ],
      "text/plain": [
       "                                   nation     author              title  \\\n",
       "A-Cather-Antonia-1918-F                 A     Cather            Antonia   \n",
       "A-Chesnutt-Marrow-1901-M                A   Chesnutt             Marrow   \n",
       "A-Crane-Maggie-1893-M                   A      Crane             Maggie   \n",
       "A-Davis-Life_Iron_Mills-1861-F          A      Davis    Life Iron Mills   \n",
       "A-Dreiser-Sister_Carrie-1900-M          A    Dreiser      Sister Carrie   \n",
       "A-Hawthorne-Scarlet_Letter-1850-M       A  Hawthorne     Scarlet Letter   \n",
       "A-Howells-Silas_Lapham-1885-M           A    Howells       Silas Lapham   \n",
       "A-James-Golden_Bowl-1904-M              A      James        Golden Bowl   \n",
       "A-Jewett-Pointed_Firs-1896-F            A     Jewett       Pointed Firs   \n",
       "A-London-Call_Wild-1903-M               A     London          Call Wild   \n",
       "A-Melville-Moby_Dick-1851-M             A   Melville          Moby Dick   \n",
       "A-Norris-Pit-1903-M                     A     Norris                Pit   \n",
       "A-Twain-Huck_Finn-1885-M                A      Twain          Huck Finn   \n",
       "A-Wharton-Age_Innocence-1920-F          A    Wharton      Age Innocence   \n",
       "B-Bronte-Jane_Eyre-1847-F               B     Bronte          Jane Eyre   \n",
       "B-Bronte-Wuthering_Heights-1847-F       B     Bronte  Wuthering Heights   \n",
       "B-Collins-Woman_White-1860-M            B    Collins        Woman White   \n",
       "B-Conrad-Heart_Darkness-1902-M          B     Conrad     Heart Darkness   \n",
       "B-Dickens-Bleak_House-1853-M            B    Dickens        Bleak House   \n",
       "B-Disraeli-Sybil-1845-M                 B   Disraeli              Sybil   \n",
       "B-Eliot-Middlemarch-1869-F              B      Eliot        Middlemarch   \n",
       "B-Gaskell-Cranford-1853-F               B    Gaskell           Cranford   \n",
       "B-Gissing-Grub_Street-1893-M            B    Gissing        Grub Street   \n",
       "B-Hardy-Tess-1891-M                     B      Hardy               Tess   \n",
       "B-Stevenson-Treasure_Island-1883-M      B  Stevenson    Treasure Island   \n",
       "B-Thackeray-Vanity_Fair-1848-M          B  Thackeray        Vanity Fair   \n",
       "B-Trollope-Live_Now-1875-M              B   Trollope           Live Now   \n",
       "B-Wells-Time_Machine-1895-M             B      Wells       Time Machine   \n",
       "\n",
       "                                    pubdate gender  \n",
       "A-Cather-Antonia-1918-F                1918      F  \n",
       "A-Chesnutt-Marrow-1901-M               1901      M  \n",
       "A-Crane-Maggie-1893-M                  1893      M  \n",
       "A-Davis-Life_Iron_Mills-1861-F         1861      F  \n",
       "A-Dreiser-Sister_Carrie-1900-M         1900      M  \n",
       "A-Hawthorne-Scarlet_Letter-1850-M      1850      M  \n",
       "A-Howells-Silas_Lapham-1885-M          1885      M  \n",
       "A-James-Golden_Bowl-1904-M             1904      M  \n",
       "A-Jewett-Pointed_Firs-1896-F           1896      F  \n",
       "A-London-Call_Wild-1903-M              1903      M  \n",
       "A-Melville-Moby_Dick-1851-M            1851      M  \n",
       "A-Norris-Pit-1903-M                    1903      M  \n",
       "A-Twain-Huck_Finn-1885-M               1885      M  \n",
       "A-Wharton-Age_Innocence-1920-F         1920      F  \n",
       "B-Bronte-Jane_Eyre-1847-F              1847      F  \n",
       "B-Bronte-Wuthering_Heights-1847-F      1847      F  \n",
       "B-Collins-Woman_White-1860-M           1860      M  \n",
       "B-Conrad-Heart_Darkness-1902-M         1902      M  \n",
       "B-Dickens-Bleak_House-1853-M           1853      M  \n",
       "B-Disraeli-Sybil-1845-M                1845      M  \n",
       "B-Eliot-Middlemarch-1869-F             1869      F  \n",
       "B-Gaskell-Cranford-1853-F              1853      F  \n",
       "B-Gissing-Grub_Street-1893-M           1893      M  \n",
       "B-Hardy-Tess-1891-M                    1891      M  \n",
       "B-Stevenson-Treasure_Island-1883-M     1883      M  \n",
       "B-Thackeray-Vanity_Fair-1848-M         1848      M  \n",
       "B-Trollope-Live_Now-1875-M             1875      M  \n",
       "B-Wells-Time_Machine-1895-M            1895      M  "
      ]
     },
     "execution_count": 20,
     "metadata": {},
     "output_type": "execute_result"
    }
   ],
   "source": [
    "books = parse_fileids(corpus.fileids())\n",
    "books"
   ]
  },
  {
   "cell_type": "markdown",
   "metadata": {},
   "source": [
    "So, we now have a data frame. What's in it?"
   ]
  },
  {
   "cell_type": "code",
   "execution_count": 21,
   "metadata": {
    "collapsed": false
   },
   "outputs": [
    {
     "data": {
      "text/plain": [
       "28"
      ]
     },
     "execution_count": 21,
     "metadata": {},
     "output_type": "execute_result"
    }
   ],
   "source": [
    "len(books)"
   ]
  },
  {
   "cell_type": "code",
   "execution_count": 22,
   "metadata": {
    "collapsed": false
   },
   "outputs": [
    {
     "data": {
      "text/plain": [
       "A    14\n",
       "B    14\n",
       "Name: nation, dtype: int64"
      ]
     },
     "execution_count": 22,
     "metadata": {},
     "output_type": "execute_result"
    }
   ],
   "source": [
    "books['nation'].value_counts()"
   ]
  },
  {
   "cell_type": "code",
   "execution_count": 23,
   "metadata": {
    "collapsed": false
   },
   "outputs": [
    {
     "data": {
      "text/plain": [
       "A    14\n",
       "B    14\n",
       "Name: nation, dtype: int64"
      ]
     },
     "execution_count": 23,
     "metadata": {},
     "output_type": "execute_result"
    }
   ],
   "source": [
    "books.nation.value_counts()"
   ]
  },
  {
   "cell_type": "code",
   "execution_count": 24,
   "metadata": {
    "collapsed": false
   },
   "outputs": [
    {
     "data": {
      "text/plain": [
       "M    20\n",
       "F     8\n",
       "Name: gender, dtype: int64"
      ]
     },
     "execution_count": 24,
     "metadata": {},
     "output_type": "execute_result"
    }
   ],
   "source": [
    "books['gender'].value_counts()"
   ]
  },
  {
   "cell_type": "code",
   "execution_count": 25,
   "metadata": {
    "collapsed": false
   },
   "outputs": [
    {
     "data": {
      "text/html": [
       "<div>\n",
       "<table border=\"1\" class=\"dataframe\">\n",
       "  <thead>\n",
       "    <tr style=\"text-align: right;\">\n",
       "      <th></th>\n",
       "      <th>pubdate</th>\n",
       "    </tr>\n",
       "  </thead>\n",
       "  <tbody>\n",
       "    <tr>\n",
       "      <th>count</th>\n",
       "      <td>28.000000</td>\n",
       "    </tr>\n",
       "    <tr>\n",
       "      <th>mean</th>\n",
       "      <td>1879.678571</td>\n",
       "    </tr>\n",
       "    <tr>\n",
       "      <th>std</th>\n",
       "      <td>23.984646</td>\n",
       "    </tr>\n",
       "    <tr>\n",
       "      <th>min</th>\n",
       "      <td>1845.000000</td>\n",
       "    </tr>\n",
       "    <tr>\n",
       "      <th>25%</th>\n",
       "      <td>1853.000000</td>\n",
       "    </tr>\n",
       "    <tr>\n",
       "      <th>50%</th>\n",
       "      <td>1885.000000</td>\n",
       "    </tr>\n",
       "    <tr>\n",
       "      <th>75%</th>\n",
       "      <td>1900.250000</td>\n",
       "    </tr>\n",
       "    <tr>\n",
       "      <th>max</th>\n",
       "      <td>1920.000000</td>\n",
       "    </tr>\n",
       "  </tbody>\n",
       "</table>\n",
       "</div>"
      ],
      "text/plain": [
       "           pubdate\n",
       "count    28.000000\n",
       "mean   1879.678571\n",
       "std      23.984646\n",
       "min    1845.000000\n",
       "25%    1853.000000\n",
       "50%    1885.000000\n",
       "75%    1900.250000\n",
       "max    1920.000000"
      ]
     },
     "execution_count": 25,
     "metadata": {},
     "output_type": "execute_result"
    }
   ],
   "source": [
    "books.describe()"
   ]
  },
  {
   "cell_type": "markdown",
   "metadata": {},
   "source": [
    "Progress, but kind of cumbersome. Some of this data would be easier to digest is visual form. So ...\n",
    "\n",
    "### An interlude on plotting\n",
    "\n",
    "Plotting in Python is a big topic. There's no handy graphical interface to select ranges of data the way there is in Excel and it can be hard to know where to start. For this reason, many people dump their data as a CSV and use something else (probably Excel or R) to create visualizations.\n",
    "\n",
    "But Python really isn't that bad, and the advantages of sticking with it for vis are real.\n",
    "\n",
    "* Keeps workflow in one place, a unified codebase.\n",
    "* Creates repeatable output. No guessing about how a plot was created.\n",
    "* Makes it easy to create dozens or hundreds of related plots for related data.\n",
    "\n",
    "Here are the truly minimal basics."
   ]
  },
  {
   "cell_type": "code",
   "execution_count": 27,
   "metadata": {
    "collapsed": false
   },
   "outputs": [
    {
     "data": {
      "image/png": "[encoded data removed]",
      "text/plain": [
       "<matplotlib.figure.Figure at 0x1136b2630>"
      ]
     },
     "metadata": {},
     "output_type": "display_data"
    }
   ],
   "source": [
    "%matplotlib inline\n",
    "# Note the magic line above. \n",
    "#  Sets graphical output to stay in current notebook.\n",
    "import matplotlib.pyplot as plt\n",
    "\n",
    "x = [1, 2, 3, 4]\n",
    "y = [2, 2, 1, 3]\n",
    "\n",
    "plt.scatter(x,y)\n",
    "plt.show()"
   ]
  },
  {
   "cell_type": "markdown",
   "metadata": {},
   "source": [
    "This is raw `matplotlib`, the basic plotting library for Python. It's ... OK by default.\n",
    "\n",
    "We can use it to create other kinds of plots, like a histogram of the publication dates from our corpus:"
   ]
  },
  {
   "cell_type": "code",
   "execution_count": 28,
   "metadata": {
    "collapsed": false
   },
   "outputs": [
    {
     "data": {
      "image/png": "[encoded data removed]",
      "text/plain": [
       "<matplotlib.figure.Figure at 0x116d0cc18>"
      ]
     },
     "metadata": {},
     "output_type": "display_data"
    }
   ],
   "source": [
    "dates = books['pubdate'].tolist() # Convert column to list\n",
    "plt.hist(dates, 10)\n",
    "plt.show()"
   ]
  },
  {
   "cell_type": "markdown",
   "metadata": {},
   "source": [
    "`matplotlib` is nice. Plenty of people use it as-is. But R has fancy statistical graphics built in. Python gets something similar (with added prettiness to boot) via the `seaborn` package, which is also geared to work with pandas dataframes like the one we just built to hold our `books` data.\n",
    "\n",
    "#### An example with seaborn"
   ]
  },
  {
   "cell_type": "code",
   "execution_count": 30,
   "metadata": {
    "collapsed": true
   },
   "outputs": [],
   "source": [
    "import seaborn as sns\n",
    "import numpy as np\n",
    "sns.set()\n",
    "sns.set_context('talk')"
   ]
  },
  {
   "cell_type": "code",
   "execution_count": 31,
   "metadata": {
    "collapsed": false
   },
   "outputs": [
    {
     "data": {
      "text/plain": [
       "<matplotlib.axes._subplots.AxesSubplot at 0x116d35668>"
      ]
     },
     "execution_count": 31,
     "metadata": {},
     "output_type": "execute_result"
    },
    {
     "data": {
      "image/png": "[encoded data removed]",
      "text/plain": [
       "<matplotlib.figure.Figure at 0x116e635c0>"
      ]
     },
     "metadata": {},
     "output_type": "display_data"
    }
   ],
   "source": [
    "sns.distplot(books['pubdate'], rug=True, kde=True, bins=10)"
   ]
  },
  {
   "cell_type": "code",
   "execution_count": 32,
   "metadata": {
    "collapsed": false
   },
   "outputs": [
    {
     "data": {
      "text/plain": [
       "<seaborn.axisgrid.FacetGrid at 0x107953438>"
      ]
     },
     "execution_count": 32,
     "metadata": {},
     "output_type": "execute_result"
    },
    {
     "data": {
      "image/png": "[encoded data removed]",
      "text/plain": [
       "<matplotlib.figure.Figure at 0x116ae9cc0>"
      ]
     },
     "metadata": {},
     "output_type": "display_data"
    }
   ],
   "source": [
    "sns.factorplot(x='gender', data=books, col='nation', kind='count')"
   ]
  },
  {
   "cell_type": "code",
   "execution_count": 57,
   "metadata": {
    "collapsed": false
   },
   "outputs": [
    {
     "data": {
      "text/plain": [
       "<seaborn.axisgrid.FacetGrid at 0x1149c6400>"
      ]
     },
     "execution_count": 57,
     "metadata": {},
     "output_type": "execute_result"
    },
    {
     "data": {
      "image/png": "[encoded data removed]",
      "text/plain": [
       "<matplotlib.figure.Figure at 0x114d57cf8>"
      ]
     },
     "metadata": {},
     "output_type": "display_data"
    }
   ],
   "source": [
    "fig = sns.FacetGrid(books, col='nation', margin_titles=True, size=4, aspect=1.5)\n",
    "bins = np.linspace(1840, 1920, 10)\n",
    "fig.map(plt.hist, 'pubdate', bins=bins, lw=0)"
   ]
  },
  {
   "cell_type": "markdown",
   "metadata": {},
   "source": [
    "### Back to our text story\n",
    "\n",
    "Let's calculate some basic data about our texts. Let's say ... the length in words and the average word length.\n",
    "\n",
    "We might like to have other data, such as the fraction of words that are nouns or verbs, or the kinds of entities they name, or their general subject matter, all of which could be collected in the same step. But this data can be slow to generate, so we'll skip it for now. Don't worry, we'll return to it later.\n",
    "\n",
    "We'll write a function to handle the data collection, then add the output to our existing data frame."
   ]
  },
  {
   "cell_type": "code",
   "execution_count": 33,
   "metadata": {
    "collapsed": false
   },
   "outputs": [],
   "source": [
    "def collect_stats(corpus):\n",
    "    '''Takes an NLTK corpus as input. \n",
    "       Returns a pandas dataframe of stats indexed to fileid.'''\n",
    "    import nltk\n",
    "    import pandas as pd\n",
    "    stats = {}\n",
    "    for fileid in corpus.fileids():\n",
    "        word_count = len(corpus.words(fileid))\n",
    "        character_count= len(corpus.raw(fileid)) - word_count\n",
    "            # raw character count includes whitespace, so subtract one char per word\n",
    "        stats[fileid.strip('.txt')] = {'wordcount':word_count,\n",
    "                           'word_length':character_count/word_count}\n",
    "    statistics = pd.DataFrame.from_dict(stats, orient='index')\n",
    "    return statistics.sort_index()"
   ]
  },
  {
   "cell_type": "markdown",
   "metadata": {},
   "source": [
    ">**NB.** If we were going to do part-of-speech tagging in pure Python, we'd use NLTK's tagger with a call like this:\n",
    "\n",
    "> ```\n",
    "> tagged_text = nltk.pos_tag(corpus.raw(fileid))\n",
    "> ```\n",
    "\n",
    ">Then, we'd loop over the results, looking for tags of interest. But we're not going to do that at the moment, because it takes nearly an hour to tag our small corpus on a five-year-old MacBook Air."
   ]
  },
  {
   "cell_type": "code",
   "execution_count": 34,
   "metadata": {
    "collapsed": false
   },
   "outputs": [
    {
     "data": {
      "text/html": [
       "<div>\n",
       "<table border=\"1\" class=\"dataframe\">\n",
       "  <thead>\n",
       "    <tr style=\"text-align: right;\">\n",
       "      <th></th>\n",
       "      <th>wordcount</th>\n",
       "      <th>word_length</th>\n",
       "    </tr>\n",
       "  </thead>\n",
       "  <tbody>\n",
       "    <tr>\n",
       "      <th>count</th>\n",
       "      <td>28.000000</td>\n",
       "      <td>28.000000</td>\n",
       "    </tr>\n",
       "    <tr>\n",
       "      <th>mean</th>\n",
       "      <td>173694.107143</td>\n",
       "      <td>3.619249</td>\n",
       "    </tr>\n",
       "    <tr>\n",
       "      <th>std</th>\n",
       "      <td>120711.035414</td>\n",
       "      <td>0.179087</td>\n",
       "    </tr>\n",
       "    <tr>\n",
       "      <th>min</th>\n",
       "      <td>18789.000000</td>\n",
       "      <td>3.071520</td>\n",
       "    </tr>\n",
       "    <tr>\n",
       "      <th>25%</th>\n",
       "      <td>84780.250000</td>\n",
       "      <td>3.545530</td>\n",
       "    </tr>\n",
       "    <tr>\n",
       "      <th>50%</th>\n",
       "      <td>151781.000000</td>\n",
       "      <td>3.625779</td>\n",
       "    </tr>\n",
       "    <tr>\n",
       "      <th>75%</th>\n",
       "      <td>235433.000000</td>\n",
       "      <td>3.741530</td>\n",
       "    </tr>\n",
       "    <tr>\n",
       "      <th>max</th>\n",
       "      <td>435141.000000</td>\n",
       "      <td>3.933640</td>\n",
       "    </tr>\n",
       "  </tbody>\n",
       "</table>\n",
       "</div>"
      ],
      "text/plain": [
       "           wordcount  word_length\n",
       "count      28.000000    28.000000\n",
       "mean   173694.107143     3.619249\n",
       "std    120711.035414     0.179087\n",
       "min     18789.000000     3.071520\n",
       "25%     84780.250000     3.545530\n",
       "50%    151781.000000     3.625779\n",
       "75%    235433.000000     3.741530\n",
       "max    435141.000000     3.933640"
      ]
     },
     "execution_count": 34,
     "metadata": {},
     "output_type": "execute_result"
    }
   ],
   "source": [
    "stats = collect_stats(corpus)\n",
    "stats.describe()"
   ]
  },
  {
   "cell_type": "markdown",
   "metadata": {
    "collapsed": true
   },
   "source": [
    "Note the wide variation in overall word counts and the much narrower range of average word lengths. This is as expected, but is worth keeping in mind. Some of the books in our corpus are very short and some are very long. Let's join these stats to the existing data frame for easier examination."
   ]
  },
  {
   "cell_type": "code",
   "execution_count": 35,
   "metadata": {
    "collapsed": false
   },
   "outputs": [
    {
     "data": {
      "text/html": [
       "<div>\n",
       "<table border=\"1\" class=\"dataframe\">\n",
       "  <thead>\n",
       "    <tr style=\"text-align: right;\">\n",
       "      <th></th>\n",
       "      <th>nation</th>\n",
       "      <th>author</th>\n",
       "      <th>title</th>\n",
       "      <th>pubdate</th>\n",
       "      <th>gender</th>\n",
       "      <th>wordcount</th>\n",
       "      <th>word_length</th>\n",
       "    </tr>\n",
       "  </thead>\n",
       "  <tbody>\n",
       "    <tr>\n",
       "      <th>A-Cather-Antonia-1918-F</th>\n",
       "      <td>A</td>\n",
       "      <td>Cather</td>\n",
       "      <td>Antonia</td>\n",
       "      <td>1918</td>\n",
       "      <td>F</td>\n",
       "      <td>97574</td>\n",
       "      <td>3.597331</td>\n",
       "    </tr>\n",
       "    <tr>\n",
       "      <th>A-Chesnutt-Marrow-1901-M</th>\n",
       "      <td>A</td>\n",
       "      <td>Chesnutt</td>\n",
       "      <td>Marrow</td>\n",
       "      <td>1901</td>\n",
       "      <td>M</td>\n",
       "      <td>110288</td>\n",
       "      <td>3.637277</td>\n",
       "    </tr>\n",
       "    <tr>\n",
       "      <th>A-Crane-Maggie-1893-M</th>\n",
       "      <td>A</td>\n",
       "      <td>Crane</td>\n",
       "      <td>Maggie</td>\n",
       "      <td>1893</td>\n",
       "      <td>M</td>\n",
       "      <td>28628</td>\n",
       "      <td>3.684051</td>\n",
       "    </tr>\n",
       "    <tr>\n",
       "      <th>A-Davis-Life_Iron_Mills-1861-F</th>\n",
       "      <td>A</td>\n",
       "      <td>Davis</td>\n",
       "      <td>Life Iron Mills</td>\n",
       "      <td>1861</td>\n",
       "      <td>F</td>\n",
       "      <td>18789</td>\n",
       "      <td>3.437703</td>\n",
       "    </tr>\n",
       "    <tr>\n",
       "      <th>A-Dreiser-Sister_Carrie-1900-M</th>\n",
       "      <td>A</td>\n",
       "      <td>Dreiser</td>\n",
       "      <td>Sister Carrie</td>\n",
       "      <td>1900</td>\n",
       "      <td>M</td>\n",
       "      <td>194062</td>\n",
       "      <td>3.628696</td>\n",
       "    </tr>\n",
       "  </tbody>\n",
       "</table>\n",
       "</div>"
      ],
      "text/plain": [
       "                               nation    author            title  pubdate  \\\n",
       "A-Cather-Antonia-1918-F             A    Cather          Antonia     1918   \n",
       "A-Chesnutt-Marrow-1901-M            A  Chesnutt           Marrow     1901   \n",
       "A-Crane-Maggie-1893-M               A     Crane           Maggie     1893   \n",
       "A-Davis-Life_Iron_Mills-1861-F      A     Davis  Life Iron Mills     1861   \n",
       "A-Dreiser-Sister_Carrie-1900-M      A   Dreiser    Sister Carrie     1900   \n",
       "\n",
       "                               gender  wordcount  word_length  \n",
       "A-Cather-Antonia-1918-F             F      97574     3.597331  \n",
       "A-Chesnutt-Marrow-1901-M            M     110288     3.637277  \n",
       "A-Crane-Maggie-1893-M               M      28628     3.684051  \n",
       "A-Davis-Life_Iron_Mills-1861-F      F      18789     3.437703  \n",
       "A-Dreiser-Sister_Carrie-1900-M      M     194062     3.628696  "
      ]
     },
     "execution_count": 35,
     "metadata": {},
     "output_type": "execute_result"
    }
   ],
   "source": [
    "books = books.join(stats)\n",
    "books.head()"
   ]
  },
  {
   "cell_type": "markdown",
   "metadata": {},
   "source": [
    "How many total words in the corpus? Almost 5 million:"
   ]
  },
  {
   "cell_type": "code",
   "execution_count": 36,
   "metadata": {
    "collapsed": false,
    "scrolled": true
   },
   "outputs": [
    {
     "data": {
      "text/plain": [
       "4863435"
      ]
     },
     "execution_count": 36,
     "metadata": {},
     "output_type": "execute_result"
    }
   ],
   "source": [
    "books.wordcount.sum()"
   ]
  },
  {
   "cell_type": "markdown",
   "metadata": {},
   "source": [
    "### More stats and visualization\n",
    "\n",
    "We might want to know how our corpus differs by author nationality or gender.\n",
    "\n",
    "> **Important aside:** This isn't the same thing as asking how British literature differs from American literature or how female writing differs from male writing. We're talking about our wee toy corpus. Even with a bigger corpus, we'd need to be very confident of its representativeness and fitness for purpose before we started talking in more sweeping terms.\n",
    "\n",
    "Let's use pandas's `groupby` method to calculate some per-nation and per-gender corpus stats."
   ]
  },
  {
   "cell_type": "code",
   "execution_count": 37,
   "metadata": {
    "collapsed": true
   },
   "outputs": [],
   "source": [
    "books_nation = books.groupby('nation')\n",
    "books_gender = books.groupby('gender')"
   ]
  },
  {
   "cell_type": "code",
   "execution_count": 38,
   "metadata": {
    "collapsed": false
   },
   "outputs": [
    {
     "name": "stdout",
     "output_type": "stream",
     "text": [
      "              pubdate  word_length  wordcount\n",
      "nation                                       \n",
      "A      count    14.00        14.00      14.00\n",
      "       mean   1890.71         3.58  124537.50\n",
      "       std      22.34         0.21   77902.81\n",
      "       min    1850.00         3.07   18789.00\n",
      "       25%    1885.00         3.46   63256.25\n",
      "       50%    1898.00         3.61  117232.50\n",
      "       75%    1903.00         3.73  161993.00\n",
      "       max    1920.00         3.93  260961.00\n",
      "B      count    14.00        14.00      14.00\n",
      "       mean   1868.64         3.66  222850.71\n",
      "       std      20.82         0.14  137803.57\n",
      "       min    1845.00         3.35   37965.00\n",
      "       25%    1849.25         3.58  100160.75\n",
      "       50%    1864.50         3.65  208085.00\n",
      "       75%    1889.00         3.74  349088.75\n",
      "       max    1902.00         3.84  435141.00 \n",
      "\n",
      "              pubdate  word_length  wordcount\n",
      "gender                                       \n",
      "F      count     8.00         8.00       8.00\n",
      "       mean   1876.38         3.61  141053.12\n",
      "       std      30.67         0.14  114642.16\n",
      "       min    1847.00         3.44   18789.00\n",
      "       25%    1851.50         3.51   76186.75\n",
      "       50%    1865.00         3.59  110875.50\n",
      "       75%    1901.50         3.70  166372.50\n",
      "       max    1920.00         3.83  377932.00\n",
      "M      count    20.00        20.00      20.00\n",
      "       mean   1881.00         3.62  186750.50\n",
      "       std      21.55         0.20  123435.16\n",
      "       min    1845.00         3.07   28628.00\n",
      "       25%    1858.25         3.57   95974.75\n",
      "       50%    1888.00         3.63  172061.50\n",
      "       75%    1900.25         3.74  258552.75\n",
      "       max    1904.00         3.93  435141.00\n"
     ]
    }
   ],
   "source": [
    "with pd.option_context('display.precision', 2):\n",
    "    print(books_nation.describe(), '\\n')\n",
    "    print(books_gender.describe())"
   ]
  },
  {
   "cell_type": "markdown",
   "metadata": {},
   "source": [
    "We can also group by multiple criteria:"
   ]
  },
  {
   "cell_type": "code",
   "execution_count": 64,
   "metadata": {
    "collapsed": false
   },
   "outputs": [
    {
     "name": "stdout",
     "output_type": "stream",
     "text": [
      "                     pubdate  word_length  wordcount\n",
      "nation gender                                       \n",
      "A      F      count     4.00         4.00       4.00\n",
      "              mean   1898.75         3.56   73089.25\n",
      "              std      27.42         0.16   46941.41\n",
      "              min    1861.00         3.44   18789.00\n",
      "              25%    1887.25         3.44   43560.00\n",
      "              50%    1907.00         3.52   74695.50\n",
      "              75%    1918.50         3.64  104224.75\n",
      "              max    1920.00         3.76  124177.00\n",
      "       M      count    10.00        10.00      10.00\n",
      "              mean   1887.50         3.59  145116.80\n",
      "              std      20.74         0.24   79903.95\n",
      "              min    1850.00         3.07   28628.00\n",
      "              25%    1885.00         3.53  102312.50\n",
      "              50%    1896.50         3.63  149503.00\n",
      "              75%    1902.50         3.73  186400.00\n",
      "              max    1904.00         3.93  260961.00\n",
      "B      F      count     4.00         4.00       4.00\n",
      "              mean   1854.00         3.66  209017.00\n",
      "              std      10.39         0.13  127065.05\n",
      "              min    1847.00         3.54   84310.00\n",
      "              25%    1847.00         3.57  130451.50\n",
      "              50%    1850.00         3.63  186913.00\n",
      "              75%    1857.00         3.71  265478.50\n",
      "              max    1869.00         3.83  377932.00\n",
      "       M      count    10.00        10.00      10.00\n",
      "              mean   1874.50         3.65  228384.20\n",
      "              std      21.37         0.15  148083.86\n",
      "              min    1845.00         3.35   37965.00\n",
      "              25%    1854.75         3.58  108880.00\n",
      "              50%    1879.00         3.68  208085.00\n",
      "              75%    1892.50         3.74  349088.75\n",
      "              max    1902.00         3.84  435141.00\n"
     ]
    }
   ],
   "source": [
    "books_multi = books.groupby(['nation', 'gender'])\n",
    "with pd.option_context('display.precision', 2):\n",
    "    print(books_multi.describe())"
   ]
  },
  {
   "cell_type": "markdown",
   "metadata": {},
   "source": [
    "Which are the longest books in the corpus?"
   ]
  },
  {
   "cell_type": "code",
   "execution_count": 65,
   "metadata": {
    "collapsed": false
   },
   "outputs": [
    {
     "data": {
      "text/html": [
       "<div>\n",
       "<table border=\"1\" class=\"dataframe\">\n",
       "  <thead>\n",
       "    <tr style=\"text-align: right;\">\n",
       "      <th></th>\n",
       "      <th>nation</th>\n",
       "      <th>author</th>\n",
       "      <th>title</th>\n",
       "      <th>pubdate</th>\n",
       "      <th>gender</th>\n",
       "      <th>wordcount</th>\n",
       "      <th>word_length</th>\n",
       "    </tr>\n",
       "  </thead>\n",
       "  <tbody>\n",
       "    <tr>\n",
       "      <th>B-Dickens-Bleak_House-1853-M</th>\n",
       "      <td>B</td>\n",
       "      <td>Dickens</td>\n",
       "      <td>Bleak House</td>\n",
       "      <td>1853</td>\n",
       "      <td>M</td>\n",
       "      <td>435141</td>\n",
       "      <td>3.547861</td>\n",
       "    </tr>\n",
       "    <tr>\n",
       "      <th>B-Trollope-Live_Now-1875-M</th>\n",
       "      <td>B</td>\n",
       "      <td>Trollope</td>\n",
       "      <td>Live Now</td>\n",
       "      <td>1875</td>\n",
       "      <td>M</td>\n",
       "      <td>421669</td>\n",
       "      <td>3.596409</td>\n",
       "    </tr>\n",
       "    <tr>\n",
       "      <th>B-Eliot-Middlemarch-1869-F</th>\n",
       "      <td>B</td>\n",
       "      <td>Eliot</td>\n",
       "      <td>Middlemarch</td>\n",
       "      <td>1869</td>\n",
       "      <td>F</td>\n",
       "      <td>377932</td>\n",
       "      <td>3.833531</td>\n",
       "    </tr>\n",
       "    <tr>\n",
       "      <th>B-Thackeray-Vanity_Fair-1848-M</th>\n",
       "      <td>B</td>\n",
       "      <td>Thackeray</td>\n",
       "      <td>Vanity Fair</td>\n",
       "      <td>1848</td>\n",
       "      <td>M</td>\n",
       "      <td>367914</td>\n",
       "      <td>3.745810</td>\n",
       "    </tr>\n",
       "    <tr>\n",
       "      <th>B-Collins-Woman_White-1860-M</th>\n",
       "      <td>B</td>\n",
       "      <td>Collins</td>\n",
       "      <td>Woman White</td>\n",
       "      <td>1860</td>\n",
       "      <td>M</td>\n",
       "      <td>292613</td>\n",
       "      <td>3.734246</td>\n",
       "    </tr>\n",
       "  </tbody>\n",
       "</table>\n",
       "</div>"
      ],
      "text/plain": [
       "                               nation     author        title  pubdate gender  \\\n",
       "B-Dickens-Bleak_House-1853-M        B    Dickens  Bleak House     1853      M   \n",
       "B-Trollope-Live_Now-1875-M          B   Trollope     Live Now     1875      M   \n",
       "B-Eliot-Middlemarch-1869-F          B      Eliot  Middlemarch     1869      F   \n",
       "B-Thackeray-Vanity_Fair-1848-M      B  Thackeray  Vanity Fair     1848      M   \n",
       "B-Collins-Woman_White-1860-M        B    Collins  Woman White     1860      M   \n",
       "\n",
       "                                wordcount  word_length  \n",
       "B-Dickens-Bleak_House-1853-M       435141     3.547861  \n",
       "B-Trollope-Live_Now-1875-M         421669     3.596409  \n",
       "B-Eliot-Middlemarch-1869-F         377932     3.833531  \n",
       "B-Thackeray-Vanity_Fair-1848-M     367914     3.745810  \n",
       "B-Collins-Woman_White-1860-M       292613     3.734246  "
      ]
     },
     "execution_count": 65,
     "metadata": {},
     "output_type": "execute_result"
    }
   ],
   "source": [
    "books.sort_values('wordcount', ascending=False).head()"
   ]
  },
  {
   "cell_type": "code",
   "execution_count": 66,
   "metadata": {
    "collapsed": false
   },
   "outputs": [
    {
     "data": {
      "text/html": [
       "<div>\n",
       "<table border=\"1\" class=\"dataframe\">\n",
       "  <thead>\n",
       "    <tr style=\"text-align: right;\">\n",
       "      <th></th>\n",
       "      <th>nation</th>\n",
       "      <th>author</th>\n",
       "      <th>title</th>\n",
       "      <th>pubdate</th>\n",
       "      <th>gender</th>\n",
       "      <th>wordcount</th>\n",
       "      <th>word_length</th>\n",
       "    </tr>\n",
       "  </thead>\n",
       "  <tbody>\n",
       "    <tr>\n",
       "      <th>A-Hawthorne-Scarlet_Letter-1850-M</th>\n",
       "      <td>A</td>\n",
       "      <td>Hawthorne</td>\n",
       "      <td>Scarlet Letter</td>\n",
       "      <td>1850</td>\n",
       "      <td>M</td>\n",
       "      <td>99654</td>\n",
       "      <td>3.933640</td>\n",
       "    </tr>\n",
       "    <tr>\n",
       "      <th>B-Disraeli-Sybil-1845-M</th>\n",
       "      <td>B</td>\n",
       "      <td>Disraeli</td>\n",
       "      <td>Sybil</td>\n",
       "      <td>1845</td>\n",
       "      <td>M</td>\n",
       "      <td>189057</td>\n",
       "      <td>3.842190</td>\n",
       "    </tr>\n",
       "    <tr>\n",
       "      <th>B-Eliot-Middlemarch-1869-F</th>\n",
       "      <td>B</td>\n",
       "      <td>Eliot</td>\n",
       "      <td>Middlemarch</td>\n",
       "      <td>1869</td>\n",
       "      <td>F</td>\n",
       "      <td>377932</td>\n",
       "      <td>3.833531</td>\n",
       "    </tr>\n",
       "    <tr>\n",
       "      <th>B-Wells-Time_Machine-1895-M</th>\n",
       "      <td>B</td>\n",
       "      <td>Wells</td>\n",
       "      <td>Time Machine</td>\n",
       "      <td>1895</td>\n",
       "      <td>M</td>\n",
       "      <td>37965</td>\n",
       "      <td>3.798973</td>\n",
       "    </tr>\n",
       "    <tr>\n",
       "      <th>A-London-Call_Wild-1903-M</th>\n",
       "      <td>A</td>\n",
       "      <td>London</td>\n",
       "      <td>Call Wild</td>\n",
       "      <td>1903</td>\n",
       "      <td>M</td>\n",
       "      <td>37405</td>\n",
       "      <td>3.769630</td>\n",
       "    </tr>\n",
       "  </tbody>\n",
       "</table>\n",
       "</div>"
      ],
      "text/plain": [
       "                                  nation     author           title  pubdate  \\\n",
       "A-Hawthorne-Scarlet_Letter-1850-M      A  Hawthorne  Scarlet Letter     1850   \n",
       "B-Disraeli-Sybil-1845-M                B   Disraeli           Sybil     1845   \n",
       "B-Eliot-Middlemarch-1869-F             B      Eliot     Middlemarch     1869   \n",
       "B-Wells-Time_Machine-1895-M            B      Wells    Time Machine     1895   \n",
       "A-London-Call_Wild-1903-M              A     London       Call Wild     1903   \n",
       "\n",
       "                                  gender  wordcount  word_length  \n",
       "A-Hawthorne-Scarlet_Letter-1850-M      M      99654     3.933640  \n",
       "B-Disraeli-Sybil-1845-M                M     189057     3.842190  \n",
       "B-Eliot-Middlemarch-1869-F             F     377932     3.833531  \n",
       "B-Wells-Time_Machine-1895-M            M      37965     3.798973  \n",
       "A-London-Call_Wild-1903-M              M      37405     3.769630  "
      ]
     },
     "execution_count": 66,
     "metadata": {},
     "output_type": "execute_result"
    }
   ],
   "source": [
    "books.sort_values('word_length', ascending=False).head()"
   ]
  },
  {
   "cell_type": "markdown",
   "metadata": {},
   "source": [
    "Is there a relationship between text length and average word length in the corpus?"
   ]
  },
  {
   "cell_type": "code",
   "execution_count": 67,
   "metadata": {
    "collapsed": false
   },
   "outputs": [
    {
     "data": {
      "text/plain": [
       "<matplotlib.axes._subplots.AxesSubplot at 0x114908390>"
      ]
     },
     "execution_count": 67,
     "metadata": {},
     "output_type": "execute_result"
    },
    {
     "data": {
      "image/png": "[encoded data removed]",
      "text/plain": [
       "<matplotlib.figure.Figure at 0x1150f9358>"
      ]
     },
     "metadata": {},
     "output_type": "display_data"
    }
   ],
   "source": [
    "sns.regplot('word_length', 'wordcount', books)"
   ]
  },
  {
   "cell_type": "markdown",
   "metadata": {},
   "source": [
    "How about word count as a function of publication date?"
   ]
  },
  {
   "cell_type": "code",
   "execution_count": 68,
   "metadata": {
    "collapsed": false
   },
   "outputs": [
    {
     "data": {
      "text/plain": [
       "<matplotlib.axes._subplots.AxesSubplot at 0x115622550>"
      ]
     },
     "execution_count": 68,
     "metadata": {},
     "output_type": "execute_result"
    },
    {
     "data": {
      "image/png": "[encoded data removed]",
      "text/plain": [
       "<matplotlib.figure.Figure at 0x1154b0828>"
      ]
     },
     "metadata": {},
     "output_type": "display_data"
    }
   ],
   "source": [
    "sns.regplot('pubdate', 'wordcount', books)"
   ]
  },
  {
   "cell_type": "markdown",
   "metadata": {},
   "source": [
    "Let's make clearer the nationality of these texts in the preceding plot."
   ]
  },
  {
   "cell_type": "code",
   "execution_count": 39,
   "metadata": {
    "collapsed": false
   },
   "outputs": [
    {
     "data": {
      "text/plain": [
       "<seaborn.axisgrid.FacetGrid at 0x116bfbdd8>"
      ]
     },
     "execution_count": 39,
     "metadata": {},
     "output_type": "execute_result"
    },
    {
     "data": {
      "image/png": "[encoded data removed]",
      "text/plain": [
       "<matplotlib.figure.Figure at 0x116bfb1d0>"
      ]
     },
     "metadata": {},
     "output_type": "display_data"
    }
   ],
   "source": [
    "sns.lmplot('pubdate', 'wordcount', books, hue='nation', \n",
    "            palette='Set1', size=8, scatter_kws={\"s\": 100}).set(ylim=(0,500000))"
   ]
  },
  {
   "cell_type": "markdown",
   "metadata": {},
   "source": [
    "And one last plot showing average lengths by nation and gender."
   ]
  },
  {
   "cell_type": "code",
   "execution_count": 74,
   "metadata": {
    "collapsed": false
   },
   "outputs": [
    {
     "data": {
      "text/plain": [
       "<seaborn.axisgrid.FacetGrid at 0x116ca7c18>"
      ]
     },
     "execution_count": 74,
     "metadata": {},
     "output_type": "execute_result"
    },
    {
     "data": {
      "image/png": "[encoded data removed]",
      "text/plain": [
       "<matplotlib.figure.Figure at 0x116ca75c0>"
      ]
     },
     "metadata": {},
     "output_type": "display_data"
    }
   ],
   "source": [
    "fig = sns.factorplot(x='nation', y='wordcount', hue='gender', data=books,\n",
    "               size=8, kind='bar', palette='muted')\n",
    "fig.set(xlabel='Nation', ylabel='Words / volume')"
   ]
  },
  {
   "cell_type": "markdown",
   "metadata": {},
   "source": [
    "## Takeaways\n",
    "\n",
    "Beyond the conceptual and mechanical basics, we've assembled and gotten a feel for a small corpus of novels from the U.K. and the U.S. The American texts in the corpus are, on average, more recent, shorter, and use slightly shorter words. The corpus contains more books written by men than by women.\n",
    "\n",
    "We also know, on critical grounds, that we're dealing with fairly canonical, mostly realist texts from the mid-late nineteenth century. There's a smattering of generic and historical diversity (_Treasure Island_, _My Antonia_), a couple of complex national identities (James, Conrad), and very little racial diversity.\n",
    "\n",
    "So, that's our toy corpus. The next session will put it to work."
   ]
  },
  {
   "cell_type": "code",
   "execution_count": null,
   "metadata": {
    "collapsed": true
   },
   "outputs": [],
   "source": []
  }
 ],
 "metadata": {
  "anaconda-cloud": {},
  "kernelspec": {
   "display_name": "Python 3",
   "language": "python",
   "name": "python3"
  },
  "language_info": {
   "codemirror_mode": {
    "name": "ipython",
    "version": 3
   },
   "file_extension": ".py",
   "mimetype": "text/x-python",
   "name": "python",
   "nbconvert_exporter": "python",
   "pygments_lexer": "ipython3",
   "version": "3.6.0"
  }
 },
 "nbformat": 4,
 "nbformat_minor": 0
}
